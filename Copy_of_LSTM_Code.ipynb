{
  "nbformat": 4,
  "nbformat_minor": 0,
  "metadata": {
    "colab": {
      "name": "Copy of LSTM_Code.ipynb",
      "provenance": [],
      "collapsed_sections": [],
      "include_colab_link": true
    },
    "kernelspec": {
      "name": "python3",
      "display_name": "Python 3"
    }
  },
  "cells": [
    {
      "cell_type": "markdown",
      "metadata": {
        "id": "view-in-github",
        "colab_type": "text"
      },
      "source": [
        "<a href=\"https://colab.research.google.com/github/yashsn/indian-sign-language/blob/master/Copy_of_LSTM_Code.ipynb\" target=\"_parent\"><img src=\"https://colab.research.google.com/assets/colab-badge.svg\" alt=\"Open In Colab\"/></a>"
      ]
    },
    {
      "cell_type": "markdown",
      "metadata": {
        "id": "sYL5OkJHt-tM"
      },
      "source": [
        "https://github.com/cynicphoenix/Human-Action-Recognition/blob/master/Phase1Evaluation.ipynb\n",
        "Link for the implementation "
      ]
    },
    {
      "cell_type": "code",
      "metadata": {
        "id": "tpZ8x4wz_g2U",
        "colab": {
          "base_uri": "https://localhost:8080/"
        },
        "outputId": "c51095d6-2f8d-421e-b553-382a08447d5f"
      },
      "source": [
        "from google.colab import drive\n",
        "drive.mount('/content/gdrive')\n"
      ],
      "execution_count": null,
      "outputs": [
        {
          "output_type": "stream",
          "text": [
            "Mounted at /content/gdrive\n"
          ],
          "name": "stdout"
        }
      ]
    },
    {
      "cell_type": "code",
      "metadata": {
        "id": "1C5NaHLAesZk"
      },
      "source": [
        "import cv2     # for capturing videos\n",
        "import math   # for mathematical operations\n",
        "import matplotlib.pyplot as plt    # for plotting the images\n",
        "%matplotlib inline\n",
        "import pandas as pd\n",
        "from keras.preprocessing import image   # for preprocessing the images\n",
        "import numpy as np    # for mathematical operations\n",
        "from keras.utils import np_utils\n",
        "from skimage.transform import resize   # for resizing images\n",
        "from sklearn.model_selection import train_test_split\n",
        "from glob import glob\n",
        "from tqdm import tqdm"
      ],
      "execution_count": null,
      "outputs": []
    },
    {
      "cell_type": "code",
      "metadata": {
        "id": "b8Lx21QgBN1i",
        "colab": {
          "base_uri": "https://localhost:8080/",
          "height": 452
        },
        "outputId": "0c2453d9-9226-4c35-855f-6344b3dff258"
      },
      "source": [
        "f = open(\"/content/gdrive/My Drive/Tp/aass.txt\", \"r\")\n",
        "temp = f.read()\n",
        "videos = temp.split('\\n')\n",
        "\n",
        "# creating a dataframe having video names\n",
        "train = pd.DataFrame()\n",
        "train['video_name'] = videos\n",
        "# train = train[:-1] \n",
        "# # here above line comment\n",
        "train"
      ],
      "execution_count": null,
      "outputs": [
        {
          "output_type": "execute_result",
          "data": {
            "text/html": [
              "<div>\n",
              "<style scoped>\n",
              "    .dataframe tbody tr th:only-of-type {\n",
              "        vertical-align: middle;\n",
              "    }\n",
              "\n",
              "    .dataframe tbody tr th {\n",
              "        vertical-align: top;\n",
              "    }\n",
              "\n",
              "    .dataframe thead th {\n",
              "        text-align: right;\n",
              "    }\n",
              "</style>\n",
              "<table border=\"1\" class=\"dataframe\">\n",
              "  <thead>\n",
              "    <tr style=\"text-align: right;\">\n",
              "      <th></th>\n",
              "      <th>video_name</th>\n",
              "    </tr>\n",
              "  </thead>\n",
              "  <tbody>\n",
              "    <tr>\n",
              "      <th>0</th>\n",
              "      <td>morning/morning*a.mp4 1</td>\n",
              "    </tr>\n",
              "    <tr>\n",
              "      <th>1</th>\n",
              "      <td>morning/morning*e.mp4 1</td>\n",
              "    </tr>\n",
              "    <tr>\n",
              "      <th>2</th>\n",
              "      <td>think/think*b.mp4 2</td>\n",
              "    </tr>\n",
              "    <tr>\n",
              "      <th>3</th>\n",
              "      <td>think/think*f.mp4 2</td>\n",
              "    </tr>\n",
              "    <tr>\n",
              "      <th>4</th>\n",
              "      <td>i/i*c.mp4 3</td>\n",
              "    </tr>\n",
              "    <tr>\n",
              "      <th>5</th>\n",
              "      <td>i/i*g.mp4 3</td>\n",
              "    </tr>\n",
              "    <tr>\n",
              "      <th>6</th>\n",
              "      <td>good/good*d.mp4 4</td>\n",
              "    </tr>\n",
              "    <tr>\n",
              "      <th>7</th>\n",
              "      <td>good/good*h.mp4 4</td>\n",
              "    </tr>\n",
              "    <tr>\n",
              "      <th>8</th>\n",
              "      <td>i/i*o.mp4</td>\n",
              "    </tr>\n",
              "    <tr>\n",
              "      <th>9</th>\n",
              "      <td>think/think*q.mp4</td>\n",
              "    </tr>\n",
              "    <tr>\n",
              "      <th>10</th>\n",
              "      <td>morning/morning*r.mp4</td>\n",
              "    </tr>\n",
              "    <tr>\n",
              "      <th>11</th>\n",
              "      <td>good/good*i.mp4</td>\n",
              "    </tr>\n",
              "    <tr>\n",
              "      <th>12</th>\n",
              "      <td>think/think*j.mp4</td>\n",
              "    </tr>\n",
              "  </tbody>\n",
              "</table>\n",
              "</div>"
            ],
            "text/plain": [
              "                 video_name\n",
              "0   morning/morning*a.mp4 1\n",
              "1   morning/morning*e.mp4 1\n",
              "2       think/think*b.mp4 2\n",
              "3       think/think*f.mp4 2\n",
              "4               i/i*c.mp4 3\n",
              "5               i/i*g.mp4 3\n",
              "6         good/good*d.mp4 4\n",
              "7         good/good*h.mp4 4\n",
              "8                 i/i*o.mp4\n",
              "9         think/think*q.mp4\n",
              "10    morning/morning*r.mp4\n",
              "11          good/good*i.mp4\n",
              "12        think/think*j.mp4"
            ]
          },
          "metadata": {
            "tags": []
          },
          "execution_count": 3
        }
      ]
    },
    {
      "cell_type": "code",
      "metadata": {
        "id": "J7hdVs_AfW2N"
      },
      "source": [
        "train_video_tag = []\n",
        "for i in range(train.shape[0]):\n",
        "    train_video_tag.append(train['video_name'][i].split('/')[0])\n",
        "    \n",
        "train['tag'] = train_video_tag"
      ],
      "execution_count": null,
      "outputs": []
    },
    {
      "cell_type": "code",
      "metadata": {
        "id": "zUuaZN9xhOQ4",
        "colab": {
          "base_uri": "https://localhost:8080/",
          "height": 452
        },
        "outputId": "d967061a-1b0b-4aed-a4bc-8b7e4c04baf9"
      },
      "source": [
        "train"
      ],
      "execution_count": null,
      "outputs": [
        {
          "output_type": "execute_result",
          "data": {
            "text/html": [
              "<div>\n",
              "<style scoped>\n",
              "    .dataframe tbody tr th:only-of-type {\n",
              "        vertical-align: middle;\n",
              "    }\n",
              "\n",
              "    .dataframe tbody tr th {\n",
              "        vertical-align: top;\n",
              "    }\n",
              "\n",
              "    .dataframe thead th {\n",
              "        text-align: right;\n",
              "    }\n",
              "</style>\n",
              "<table border=\"1\" class=\"dataframe\">\n",
              "  <thead>\n",
              "    <tr style=\"text-align: right;\">\n",
              "      <th></th>\n",
              "      <th>video_name</th>\n",
              "      <th>tag</th>\n",
              "    </tr>\n",
              "  </thead>\n",
              "  <tbody>\n",
              "    <tr>\n",
              "      <th>0</th>\n",
              "      <td>morning/morning*a.mp4 1</td>\n",
              "      <td>morning</td>\n",
              "    </tr>\n",
              "    <tr>\n",
              "      <th>1</th>\n",
              "      <td>morning/morning*e.mp4 1</td>\n",
              "      <td>morning</td>\n",
              "    </tr>\n",
              "    <tr>\n",
              "      <th>2</th>\n",
              "      <td>think/think*b.mp4 2</td>\n",
              "      <td>think</td>\n",
              "    </tr>\n",
              "    <tr>\n",
              "      <th>3</th>\n",
              "      <td>think/think*f.mp4 2</td>\n",
              "      <td>think</td>\n",
              "    </tr>\n",
              "    <tr>\n",
              "      <th>4</th>\n",
              "      <td>i/i*c.mp4 3</td>\n",
              "      <td>i</td>\n",
              "    </tr>\n",
              "    <tr>\n",
              "      <th>5</th>\n",
              "      <td>i/i*g.mp4 3</td>\n",
              "      <td>i</td>\n",
              "    </tr>\n",
              "    <tr>\n",
              "      <th>6</th>\n",
              "      <td>good/good*d.mp4 4</td>\n",
              "      <td>good</td>\n",
              "    </tr>\n",
              "    <tr>\n",
              "      <th>7</th>\n",
              "      <td>good/good*h.mp4 4</td>\n",
              "      <td>good</td>\n",
              "    </tr>\n",
              "    <tr>\n",
              "      <th>8</th>\n",
              "      <td>i/i*o.mp4</td>\n",
              "      <td>i</td>\n",
              "    </tr>\n",
              "    <tr>\n",
              "      <th>9</th>\n",
              "      <td>think/think*q.mp4</td>\n",
              "      <td>think</td>\n",
              "    </tr>\n",
              "    <tr>\n",
              "      <th>10</th>\n",
              "      <td>morning/morning*r.mp4</td>\n",
              "      <td>morning</td>\n",
              "    </tr>\n",
              "    <tr>\n",
              "      <th>11</th>\n",
              "      <td>good/good*i.mp4</td>\n",
              "      <td>good</td>\n",
              "    </tr>\n",
              "    <tr>\n",
              "      <th>12</th>\n",
              "      <td>think/think*j.mp4</td>\n",
              "      <td>think</td>\n",
              "    </tr>\n",
              "  </tbody>\n",
              "</table>\n",
              "</div>"
            ],
            "text/plain": [
              "                 video_name      tag\n",
              "0   morning/morning*a.mp4 1  morning\n",
              "1   morning/morning*e.mp4 1  morning\n",
              "2       think/think*b.mp4 2    think\n",
              "3       think/think*f.mp4 2    think\n",
              "4               i/i*c.mp4 3        i\n",
              "5               i/i*g.mp4 3        i\n",
              "6         good/good*d.mp4 4     good\n",
              "7         good/good*h.mp4 4     good\n",
              "8                 i/i*o.mp4        i\n",
              "9         think/think*q.mp4    think\n",
              "10    morning/morning*r.mp4  morning\n",
              "11          good/good*i.mp4     good\n",
              "12        think/think*j.mp4    think"
            ]
          },
          "metadata": {
            "tags": []
          },
          "execution_count": 5
        }
      ]
    },
    {
      "cell_type": "code",
      "metadata": {
        "id": "nuPtRAAdgcn4",
        "colab": {
          "base_uri": "https://localhost:8080/"
        },
        "outputId": "5a43e2fb-2217-44ca-f0cd-7f90443c1fd4"
      },
      "source": [
        "for i in tqdm(range(train.shape[0])):\n",
        "    count = 0\n",
        "    videoFile = train['video_name'][i]\n",
        "    cap = cv2.VideoCapture('/content/gdrive/My Drive/Tp/'+videoFile.split('/')[1].split(' ')[0].split('*')[1])   # capturing the video from the given path\n",
        "    frameRate = cap.get(5) #frame rate\n",
        "    x=1\n",
        "    # print(videoFile.split('/')[1].split(' ')[0])\n",
        "    # print(cap)\n",
        "    print(\"hio \"+'/content/gdrive/My Drive/Tp/'+videoFile.split('/')[1].split(' ')[0].split('*')[1])\n",
        "    while(cap.isOpened()):\n",
        "        # print(\"yozzz\")\n",
        "        frameId = cap.get(1) #current frame number\n",
        "        ret, frame = cap.read()\n",
        "        if (ret != True):\n",
        "            break\n",
        "        if (frameId % math.floor(frameRate) == 0):\n",
        "            # storing the frames in a new folder named train_1\n",
        "            print('ere '+videoFile.split('/')[1].split(' ')[0].split('.')[0])\n",
        "            filename ='/content/gdrive/My Drive/Tp/train/'+videoFile.split('/')[1].split(' ')[0].split('.')[0] +\"_frame%d.jpg\" % count;count+=1\n",
        "            cv2.imwrite(filename, frame)\n",
        "    cap.release()"
      ],
      "execution_count": null,
      "outputs": [
        {
          "output_type": "stream",
          "text": [
            "\r  0%|          | 0/13 [00:00<?, ?it/s]"
          ],
          "name": "stderr"
        },
        {
          "output_type": "stream",
          "text": [
            "hio /content/gdrive/My Drive/Tp/a.mp4\n",
            "ere morning*a\n",
            "ere morning*a\n",
            "ere morning*a\n"
          ],
          "name": "stdout"
        },
        {
          "output_type": "stream",
          "text": [
            "\r  8%|▊         | 1/13 [00:05<01:10,  5.87s/it]"
          ],
          "name": "stderr"
        },
        {
          "output_type": "stream",
          "text": [
            "hio /content/gdrive/My Drive/Tp/e.mp4\n",
            "ere morning*e\n",
            "ere morning*e\n",
            "ere morning*e\n",
            "ere morning*e\n"
          ],
          "name": "stdout"
        },
        {
          "output_type": "stream",
          "text": [
            "\r 15%|█▌        | 2/13 [00:11<01:04,  5.89s/it]"
          ],
          "name": "stderr"
        },
        {
          "output_type": "stream",
          "text": [
            "hio /content/gdrive/My Drive/Tp/b.mp4\n",
            "ere think*b\n",
            "ere think*b\n",
            "ere think*b\n",
            "ere think*b\n"
          ],
          "name": "stdout"
        },
        {
          "output_type": "stream",
          "text": [
            "\r 23%|██▎       | 3/13 [00:17<00:58,  5.84s/it]"
          ],
          "name": "stderr"
        },
        {
          "output_type": "stream",
          "text": [
            "hio /content/gdrive/My Drive/Tp/f.mp4\n",
            "ere think*f\n",
            "ere think*f\n",
            "ere think*f\n",
            "ere think*f\n"
          ],
          "name": "stdout"
        },
        {
          "output_type": "stream",
          "text": [
            "\r 31%|███       | 4/13 [00:23<00:53,  5.94s/it]"
          ],
          "name": "stderr"
        },
        {
          "output_type": "stream",
          "text": [
            "hio /content/gdrive/My Drive/Tp/c.mp4\n",
            "ere i*c\n",
            "ere i*c\n",
            "ere i*c\n",
            "ere i*c\n",
            "ere i*c\n",
            "ere i*c\n"
          ],
          "name": "stdout"
        },
        {
          "output_type": "stream",
          "text": [
            "\r 38%|███▊      | 5/13 [00:33<00:56,  7.11s/it]"
          ],
          "name": "stderr"
        },
        {
          "output_type": "stream",
          "text": [
            "hio /content/gdrive/My Drive/Tp/g.mp4\n",
            "ere i*g\n",
            "ere i*g\n",
            "ere i*g\n",
            "ere i*g\n",
            "ere i*g\n"
          ],
          "name": "stdout"
        },
        {
          "output_type": "stream",
          "text": [
            "\r 46%|████▌     | 6/13 [00:40<00:49,  7.07s/it]"
          ],
          "name": "stderr"
        },
        {
          "output_type": "stream",
          "text": [
            "hio /content/gdrive/My Drive/Tp/d.mp4\n",
            "ere good*d\n",
            "ere good*d\n",
            "ere good*d\n",
            "ere good*d\n"
          ],
          "name": "stdout"
        },
        {
          "output_type": "stream",
          "text": [
            "\r 54%|█████▍    | 7/13 [00:47<00:42,  7.07s/it]"
          ],
          "name": "stderr"
        },
        {
          "output_type": "stream",
          "text": [
            "hio /content/gdrive/My Drive/Tp/h.mp4\n",
            "ere good*h\n",
            "ere good*h\n",
            "ere good*h\n"
          ],
          "name": "stdout"
        },
        {
          "output_type": "stream",
          "text": [
            "\r 62%|██████▏   | 8/13 [00:52<00:31,  6.37s/it]"
          ],
          "name": "stderr"
        },
        {
          "output_type": "stream",
          "text": [
            "hio /content/gdrive/My Drive/Tp/o.mp4\n",
            "ere i*o\n",
            "ere i*o\n",
            "ere i*o\n"
          ],
          "name": "stdout"
        },
        {
          "output_type": "stream",
          "text": [
            "\r 69%|██████▉   | 9/13 [00:55<00:21,  5.35s/it]"
          ],
          "name": "stderr"
        },
        {
          "output_type": "stream",
          "text": [
            "hio /content/gdrive/My Drive/Tp/q.mp4\n",
            "ere think*q\n",
            "ere think*q\n",
            "ere think*q\n",
            "ere think*q\n"
          ],
          "name": "stdout"
        },
        {
          "output_type": "stream",
          "text": [
            "\r 77%|███████▋  | 10/13 [00:58<00:14,  4.79s/it]"
          ],
          "name": "stderr"
        },
        {
          "output_type": "stream",
          "text": [
            "hio /content/gdrive/My Drive/Tp/r.mp4\n",
            "ere morning*r\n",
            "ere morning*r\n",
            "ere morning*r\n",
            "ere morning*r\n"
          ],
          "name": "stdout"
        },
        {
          "output_type": "stream",
          "text": [
            "\r 85%|████████▍ | 11/13 [01:02<00:08,  4.44s/it]"
          ],
          "name": "stderr"
        },
        {
          "output_type": "stream",
          "text": [
            "hio /content/gdrive/My Drive/Tp/i.mp4\n",
            "ere good*i\n",
            "ere good*i\n",
            "ere good*i\n"
          ],
          "name": "stdout"
        },
        {
          "output_type": "stream",
          "text": [
            "\r 92%|█████████▏| 12/13 [01:05<00:03,  3.92s/it]"
          ],
          "name": "stderr"
        },
        {
          "output_type": "stream",
          "text": [
            "hio /content/gdrive/My Drive/Tp/j.mp4\n",
            "ere think*j\n",
            "ere think*j\n",
            "ere think*j\n",
            "ere think*j\n"
          ],
          "name": "stdout"
        },
        {
          "output_type": "stream",
          "text": [
            "100%|██████████| 13/13 [01:08<00:00,  5.28s/it]\n"
          ],
          "name": "stderr"
        }
      ]
    },
    {
      "cell_type": "markdown",
      "metadata": {
        "id": "nuJPIv16jf5b"
      },
      "source": [
        "For test--------------------------------"
      ]
    },
    {
      "cell_type": "code",
      "metadata": {
        "id": "Kq_YdrqQjaFY",
        "colab": {
          "base_uri": "https://localhost:8080/",
          "height": 459
        },
        "outputId": "86af0544-2e71-4823-a66f-fbc594bc5a8c"
      },
      "source": [
        "# open the .txt file which have names of test videos\n",
        "f = open(\"/content/gdrive/My Drive/Tp/aass2.txt\", \"r\")\n",
        "\n",
        "temp = f.read()\n",
        "print(temp)\n",
        "videos = temp.split('\\n')\n",
        "\n",
        "# creating a dataframe having video names\n",
        "test = pd.DataFrame()\n",
        "test['video_name'] = videos\n",
        "\n",
        "test.head()\n",
        "test_video_tag = []\n",
        "print(test.shape[0])\n",
        "for i in range(test.shape[0]):\n",
        "    print(\"yo\")\n",
        "    test_video_tag.append(test['video_name'][i].split('/')[0])\n",
        "    \n",
        "test['tag'] = test_video_tag\n",
        "test.head()"
      ],
      "execution_count": null,
      "outputs": [
        {
          "output_type": "stream",
          "text": [
            "think/think*k.mp4\n",
            "good/good*m.mp4\n",
            "i/i*n.mp4\n",
            "morning/morning*p.mp4\n",
            "i/i*aa.mp4\n",
            "think/think*bb.mp4\n",
            "morning/morning*cc.mp4\n",
            "7\n",
            "yo\n",
            "yo\n",
            "yo\n",
            "yo\n",
            "yo\n",
            "yo\n",
            "yo\n"
          ],
          "name": "stdout"
        },
        {
          "output_type": "execute_result",
          "data": {
            "text/html": [
              "<div>\n",
              "<style scoped>\n",
              "    .dataframe tbody tr th:only-of-type {\n",
              "        vertical-align: middle;\n",
              "    }\n",
              "\n",
              "    .dataframe tbody tr th {\n",
              "        vertical-align: top;\n",
              "    }\n",
              "\n",
              "    .dataframe thead th {\n",
              "        text-align: right;\n",
              "    }\n",
              "</style>\n",
              "<table border=\"1\" class=\"dataframe\">\n",
              "  <thead>\n",
              "    <tr style=\"text-align: right;\">\n",
              "      <th></th>\n",
              "      <th>video_name</th>\n",
              "      <th>tag</th>\n",
              "    </tr>\n",
              "  </thead>\n",
              "  <tbody>\n",
              "    <tr>\n",
              "      <th>0</th>\n",
              "      <td>think/think*k.mp4</td>\n",
              "      <td>think</td>\n",
              "    </tr>\n",
              "    <tr>\n",
              "      <th>1</th>\n",
              "      <td>good/good*m.mp4</td>\n",
              "      <td>good</td>\n",
              "    </tr>\n",
              "    <tr>\n",
              "      <th>2</th>\n",
              "      <td>i/i*n.mp4</td>\n",
              "      <td>i</td>\n",
              "    </tr>\n",
              "    <tr>\n",
              "      <th>3</th>\n",
              "      <td>morning/morning*p.mp4</td>\n",
              "      <td>morning</td>\n",
              "    </tr>\n",
              "    <tr>\n",
              "      <th>4</th>\n",
              "      <td>i/i*aa.mp4</td>\n",
              "      <td>i</td>\n",
              "    </tr>\n",
              "  </tbody>\n",
              "</table>\n",
              "</div>"
            ],
            "text/plain": [
              "              video_name      tag\n",
              "0      think/think*k.mp4    think\n",
              "1        good/good*m.mp4     good\n",
              "2              i/i*n.mp4        i\n",
              "3  morning/morning*p.mp4  morning\n",
              "4             i/i*aa.mp4        i"
            ]
          },
          "metadata": {
            "tags": []
          },
          "execution_count": 7
        }
      ]
    },
    {
      "cell_type": "markdown",
      "metadata": {
        "id": "t6jGndXKlFkd"
      },
      "source": [
        "Done here"
      ]
    },
    {
      "cell_type": "code",
      "metadata": {
        "id": "gIhxdKSDlG9D",
        "colab": {
          "base_uri": "https://localhost:8080/"
        },
        "outputId": "f19b8b3a-3736-4f92-b3aa-dfbc384e48c3"
      },
      "source": [
        "\n",
        "# getting the names of all the images\n",
        "images = glob(\"/content/gdrive/My Drive/Tp/train/*.jpg\")\n",
        "train_image = []\n",
        "train_class = []\n",
        "# print(images[0].split('/')[1])\n",
        "# print(images[0].split('/')[1].split('_')[1])\n",
        "for i in tqdm(range(len(images))):\n",
        "    # creating the image name\n",
        "    train_image.append(images[i])\n",
        "    # creating the class of image\n",
        "    train_class.append(images[i].split('_')[0].split('*')[0].split('/')[6])\n",
        "    \n",
        "# storing the images and their class in a dataframe\n",
        "train_data = pd.DataFrame()\n",
        "train_data['image'] = train_image\n",
        "train_data['class'] = train_class\n",
        "\n",
        "# converting the dataframe into csv file \n",
        "train_data.to_csv('/content/gdrive/My Drive/Tp/train_new2.csv',header=True, index=False)\n",
        "import keras\n",
        "from keras.models import Sequential\n",
        "from keras.applications.vgg16 import VGG16\n",
        "from keras.layers import Dense, InputLayer, Dropout, Flatten\n",
        "from keras.layers import Conv2D, MaxPooling2D, GlobalMaxPooling2D\n",
        "from keras.preprocessing import image\n",
        "import numpy as np\n",
        "import pandas as pd\n",
        "import matplotlib.pyplot as plt\n",
        "from tqdm import tqdm\n",
        "from sklearn.model_selection import train_test_split"
      ],
      "execution_count": null,
      "outputs": [
        {
          "output_type": "stream",
          "text": [
            "100%|██████████| 51/51 [00:00<00:00, 19114.42it/s]\n"
          ],
          "name": "stderr"
        }
      ]
    },
    {
      "cell_type": "code",
      "metadata": {
        "id": "PPZCoKpZ14Ly",
        "colab": {
          "base_uri": "https://localhost:8080/",
          "height": 1000
        },
        "outputId": "a6297ece-4141-488e-a3f4-71b328a18922"
      },
      "source": [
        "train = pd.read_csv('/content/gdrive/My Drive/Tp/train_new2.csv')\n",
        "train"
      ],
      "execution_count": null,
      "outputs": [
        {
          "output_type": "execute_result",
          "data": {
            "text/html": [
              "<div>\n",
              "<style scoped>\n",
              "    .dataframe tbody tr th:only-of-type {\n",
              "        vertical-align: middle;\n",
              "    }\n",
              "\n",
              "    .dataframe tbody tr th {\n",
              "        vertical-align: top;\n",
              "    }\n",
              "\n",
              "    .dataframe thead th {\n",
              "        text-align: right;\n",
              "    }\n",
              "</style>\n",
              "<table border=\"1\" class=\"dataframe\">\n",
              "  <thead>\n",
              "    <tr style=\"text-align: right;\">\n",
              "      <th></th>\n",
              "      <th>image</th>\n",
              "      <th>class</th>\n",
              "    </tr>\n",
              "  </thead>\n",
              "  <tbody>\n",
              "    <tr>\n",
              "      <th>0</th>\n",
              "      <td>/content/gdrive/My Drive/Tp/train/morning*a_fr...</td>\n",
              "      <td>morning</td>\n",
              "    </tr>\n",
              "    <tr>\n",
              "      <th>1</th>\n",
              "      <td>/content/gdrive/My Drive/Tp/train/morning*a_fr...</td>\n",
              "      <td>morning</td>\n",
              "    </tr>\n",
              "    <tr>\n",
              "      <th>2</th>\n",
              "      <td>/content/gdrive/My Drive/Tp/train/morning*a_fr...</td>\n",
              "      <td>morning</td>\n",
              "    </tr>\n",
              "    <tr>\n",
              "      <th>3</th>\n",
              "      <td>/content/gdrive/My Drive/Tp/train/morning*e_fr...</td>\n",
              "      <td>morning</td>\n",
              "    </tr>\n",
              "    <tr>\n",
              "      <th>4</th>\n",
              "      <td>/content/gdrive/My Drive/Tp/train/morning*e_fr...</td>\n",
              "      <td>morning</td>\n",
              "    </tr>\n",
              "    <tr>\n",
              "      <th>5</th>\n",
              "      <td>/content/gdrive/My Drive/Tp/train/morning*e_fr...</td>\n",
              "      <td>morning</td>\n",
              "    </tr>\n",
              "    <tr>\n",
              "      <th>6</th>\n",
              "      <td>/content/gdrive/My Drive/Tp/train/morning*e_fr...</td>\n",
              "      <td>morning</td>\n",
              "    </tr>\n",
              "    <tr>\n",
              "      <th>7</th>\n",
              "      <td>/content/gdrive/My Drive/Tp/train/think*b_fram...</td>\n",
              "      <td>think</td>\n",
              "    </tr>\n",
              "    <tr>\n",
              "      <th>8</th>\n",
              "      <td>/content/gdrive/My Drive/Tp/train/think*b_fram...</td>\n",
              "      <td>think</td>\n",
              "    </tr>\n",
              "    <tr>\n",
              "      <th>9</th>\n",
              "      <td>/content/gdrive/My Drive/Tp/train/think*b_fram...</td>\n",
              "      <td>think</td>\n",
              "    </tr>\n",
              "    <tr>\n",
              "      <th>10</th>\n",
              "      <td>/content/gdrive/My Drive/Tp/train/think*b_fram...</td>\n",
              "      <td>think</td>\n",
              "    </tr>\n",
              "    <tr>\n",
              "      <th>11</th>\n",
              "      <td>/content/gdrive/My Drive/Tp/train/think*f_fram...</td>\n",
              "      <td>think</td>\n",
              "    </tr>\n",
              "    <tr>\n",
              "      <th>12</th>\n",
              "      <td>/content/gdrive/My Drive/Tp/train/think*f_fram...</td>\n",
              "      <td>think</td>\n",
              "    </tr>\n",
              "    <tr>\n",
              "      <th>13</th>\n",
              "      <td>/content/gdrive/My Drive/Tp/train/think*f_fram...</td>\n",
              "      <td>think</td>\n",
              "    </tr>\n",
              "    <tr>\n",
              "      <th>14</th>\n",
              "      <td>/content/gdrive/My Drive/Tp/train/think*f_fram...</td>\n",
              "      <td>think</td>\n",
              "    </tr>\n",
              "    <tr>\n",
              "      <th>15</th>\n",
              "      <td>/content/gdrive/My Drive/Tp/train/i*c_frame1.jpg</td>\n",
              "      <td>i</td>\n",
              "    </tr>\n",
              "    <tr>\n",
              "      <th>16</th>\n",
              "      <td>/content/gdrive/My Drive/Tp/train/i*c_frame0.jpg</td>\n",
              "      <td>i</td>\n",
              "    </tr>\n",
              "    <tr>\n",
              "      <th>17</th>\n",
              "      <td>/content/gdrive/My Drive/Tp/train/i*c_frame2.jpg</td>\n",
              "      <td>i</td>\n",
              "    </tr>\n",
              "    <tr>\n",
              "      <th>18</th>\n",
              "      <td>/content/gdrive/My Drive/Tp/train/i*c_frame3.jpg</td>\n",
              "      <td>i</td>\n",
              "    </tr>\n",
              "    <tr>\n",
              "      <th>19</th>\n",
              "      <td>/content/gdrive/My Drive/Tp/train/i*c_frame4.jpg</td>\n",
              "      <td>i</td>\n",
              "    </tr>\n",
              "    <tr>\n",
              "      <th>20</th>\n",
              "      <td>/content/gdrive/My Drive/Tp/train/i*c_frame5.jpg</td>\n",
              "      <td>i</td>\n",
              "    </tr>\n",
              "    <tr>\n",
              "      <th>21</th>\n",
              "      <td>/content/gdrive/My Drive/Tp/train/i*g_frame1.jpg</td>\n",
              "      <td>i</td>\n",
              "    </tr>\n",
              "    <tr>\n",
              "      <th>22</th>\n",
              "      <td>/content/gdrive/My Drive/Tp/train/i*g_frame0.jpg</td>\n",
              "      <td>i</td>\n",
              "    </tr>\n",
              "    <tr>\n",
              "      <th>23</th>\n",
              "      <td>/content/gdrive/My Drive/Tp/train/i*g_frame2.jpg</td>\n",
              "      <td>i</td>\n",
              "    </tr>\n",
              "    <tr>\n",
              "      <th>24</th>\n",
              "      <td>/content/gdrive/My Drive/Tp/train/i*g_frame3.jpg</td>\n",
              "      <td>i</td>\n",
              "    </tr>\n",
              "    <tr>\n",
              "      <th>25</th>\n",
              "      <td>/content/gdrive/My Drive/Tp/train/i*g_frame4.jpg</td>\n",
              "      <td>i</td>\n",
              "    </tr>\n",
              "    <tr>\n",
              "      <th>26</th>\n",
              "      <td>/content/gdrive/My Drive/Tp/train/good*d_frame...</td>\n",
              "      <td>good</td>\n",
              "    </tr>\n",
              "    <tr>\n",
              "      <th>27</th>\n",
              "      <td>/content/gdrive/My Drive/Tp/train/good*d_frame...</td>\n",
              "      <td>good</td>\n",
              "    </tr>\n",
              "    <tr>\n",
              "      <th>28</th>\n",
              "      <td>/content/gdrive/My Drive/Tp/train/good*d_frame...</td>\n",
              "      <td>good</td>\n",
              "    </tr>\n",
              "    <tr>\n",
              "      <th>29</th>\n",
              "      <td>/content/gdrive/My Drive/Tp/train/good*d_frame...</td>\n",
              "      <td>good</td>\n",
              "    </tr>\n",
              "    <tr>\n",
              "      <th>30</th>\n",
              "      <td>/content/gdrive/My Drive/Tp/train/good*h_frame...</td>\n",
              "      <td>good</td>\n",
              "    </tr>\n",
              "    <tr>\n",
              "      <th>31</th>\n",
              "      <td>/content/gdrive/My Drive/Tp/train/good*h_frame...</td>\n",
              "      <td>good</td>\n",
              "    </tr>\n",
              "    <tr>\n",
              "      <th>32</th>\n",
              "      <td>/content/gdrive/My Drive/Tp/train/good*h_frame...</td>\n",
              "      <td>good</td>\n",
              "    </tr>\n",
              "    <tr>\n",
              "      <th>33</th>\n",
              "      <td>/content/gdrive/My Drive/Tp/train/i*o_frame0.jpg</td>\n",
              "      <td>i</td>\n",
              "    </tr>\n",
              "    <tr>\n",
              "      <th>34</th>\n",
              "      <td>/content/gdrive/My Drive/Tp/train/i*o_frame1.jpg</td>\n",
              "      <td>i</td>\n",
              "    </tr>\n",
              "    <tr>\n",
              "      <th>35</th>\n",
              "      <td>/content/gdrive/My Drive/Tp/train/i*o_frame2.jpg</td>\n",
              "      <td>i</td>\n",
              "    </tr>\n",
              "    <tr>\n",
              "      <th>36</th>\n",
              "      <td>/content/gdrive/My Drive/Tp/train/think*q_fram...</td>\n",
              "      <td>think</td>\n",
              "    </tr>\n",
              "    <tr>\n",
              "      <th>37</th>\n",
              "      <td>/content/gdrive/My Drive/Tp/train/think*q_fram...</td>\n",
              "      <td>think</td>\n",
              "    </tr>\n",
              "    <tr>\n",
              "      <th>38</th>\n",
              "      <td>/content/gdrive/My Drive/Tp/train/think*q_fram...</td>\n",
              "      <td>think</td>\n",
              "    </tr>\n",
              "    <tr>\n",
              "      <th>39</th>\n",
              "      <td>/content/gdrive/My Drive/Tp/train/think*q_fram...</td>\n",
              "      <td>think</td>\n",
              "    </tr>\n",
              "    <tr>\n",
              "      <th>40</th>\n",
              "      <td>/content/gdrive/My Drive/Tp/train/morning*r_fr...</td>\n",
              "      <td>morning</td>\n",
              "    </tr>\n",
              "    <tr>\n",
              "      <th>41</th>\n",
              "      <td>/content/gdrive/My Drive/Tp/train/morning*r_fr...</td>\n",
              "      <td>morning</td>\n",
              "    </tr>\n",
              "    <tr>\n",
              "      <th>42</th>\n",
              "      <td>/content/gdrive/My Drive/Tp/train/morning*r_fr...</td>\n",
              "      <td>morning</td>\n",
              "    </tr>\n",
              "    <tr>\n",
              "      <th>43</th>\n",
              "      <td>/content/gdrive/My Drive/Tp/train/morning*r_fr...</td>\n",
              "      <td>morning</td>\n",
              "    </tr>\n",
              "    <tr>\n",
              "      <th>44</th>\n",
              "      <td>/content/gdrive/My Drive/Tp/train/good*i_frame...</td>\n",
              "      <td>good</td>\n",
              "    </tr>\n",
              "    <tr>\n",
              "      <th>45</th>\n",
              "      <td>/content/gdrive/My Drive/Tp/train/good*i_frame...</td>\n",
              "      <td>good</td>\n",
              "    </tr>\n",
              "    <tr>\n",
              "      <th>46</th>\n",
              "      <td>/content/gdrive/My Drive/Tp/train/good*i_frame...</td>\n",
              "      <td>good</td>\n",
              "    </tr>\n",
              "    <tr>\n",
              "      <th>47</th>\n",
              "      <td>/content/gdrive/My Drive/Tp/train/think*j_fram...</td>\n",
              "      <td>think</td>\n",
              "    </tr>\n",
              "    <tr>\n",
              "      <th>48</th>\n",
              "      <td>/content/gdrive/My Drive/Tp/train/think*j_fram...</td>\n",
              "      <td>think</td>\n",
              "    </tr>\n",
              "    <tr>\n",
              "      <th>49</th>\n",
              "      <td>/content/gdrive/My Drive/Tp/train/think*j_fram...</td>\n",
              "      <td>think</td>\n",
              "    </tr>\n",
              "    <tr>\n",
              "      <th>50</th>\n",
              "      <td>/content/gdrive/My Drive/Tp/train/think*j_fram...</td>\n",
              "      <td>think</td>\n",
              "    </tr>\n",
              "  </tbody>\n",
              "</table>\n",
              "</div>"
            ],
            "text/plain": [
              "                                                image    class\n",
              "0   /content/gdrive/My Drive/Tp/train/morning*a_fr...  morning\n",
              "1   /content/gdrive/My Drive/Tp/train/morning*a_fr...  morning\n",
              "2   /content/gdrive/My Drive/Tp/train/morning*a_fr...  morning\n",
              "3   /content/gdrive/My Drive/Tp/train/morning*e_fr...  morning\n",
              "4   /content/gdrive/My Drive/Tp/train/morning*e_fr...  morning\n",
              "5   /content/gdrive/My Drive/Tp/train/morning*e_fr...  morning\n",
              "6   /content/gdrive/My Drive/Tp/train/morning*e_fr...  morning\n",
              "7   /content/gdrive/My Drive/Tp/train/think*b_fram...    think\n",
              "8   /content/gdrive/My Drive/Tp/train/think*b_fram...    think\n",
              "9   /content/gdrive/My Drive/Tp/train/think*b_fram...    think\n",
              "10  /content/gdrive/My Drive/Tp/train/think*b_fram...    think\n",
              "11  /content/gdrive/My Drive/Tp/train/think*f_fram...    think\n",
              "12  /content/gdrive/My Drive/Tp/train/think*f_fram...    think\n",
              "13  /content/gdrive/My Drive/Tp/train/think*f_fram...    think\n",
              "14  /content/gdrive/My Drive/Tp/train/think*f_fram...    think\n",
              "15   /content/gdrive/My Drive/Tp/train/i*c_frame1.jpg        i\n",
              "16   /content/gdrive/My Drive/Tp/train/i*c_frame0.jpg        i\n",
              "17   /content/gdrive/My Drive/Tp/train/i*c_frame2.jpg        i\n",
              "18   /content/gdrive/My Drive/Tp/train/i*c_frame3.jpg        i\n",
              "19   /content/gdrive/My Drive/Tp/train/i*c_frame4.jpg        i\n",
              "20   /content/gdrive/My Drive/Tp/train/i*c_frame5.jpg        i\n",
              "21   /content/gdrive/My Drive/Tp/train/i*g_frame1.jpg        i\n",
              "22   /content/gdrive/My Drive/Tp/train/i*g_frame0.jpg        i\n",
              "23   /content/gdrive/My Drive/Tp/train/i*g_frame2.jpg        i\n",
              "24   /content/gdrive/My Drive/Tp/train/i*g_frame3.jpg        i\n",
              "25   /content/gdrive/My Drive/Tp/train/i*g_frame4.jpg        i\n",
              "26  /content/gdrive/My Drive/Tp/train/good*d_frame...     good\n",
              "27  /content/gdrive/My Drive/Tp/train/good*d_frame...     good\n",
              "28  /content/gdrive/My Drive/Tp/train/good*d_frame...     good\n",
              "29  /content/gdrive/My Drive/Tp/train/good*d_frame...     good\n",
              "30  /content/gdrive/My Drive/Tp/train/good*h_frame...     good\n",
              "31  /content/gdrive/My Drive/Tp/train/good*h_frame...     good\n",
              "32  /content/gdrive/My Drive/Tp/train/good*h_frame...     good\n",
              "33   /content/gdrive/My Drive/Tp/train/i*o_frame0.jpg        i\n",
              "34   /content/gdrive/My Drive/Tp/train/i*o_frame1.jpg        i\n",
              "35   /content/gdrive/My Drive/Tp/train/i*o_frame2.jpg        i\n",
              "36  /content/gdrive/My Drive/Tp/train/think*q_fram...    think\n",
              "37  /content/gdrive/My Drive/Tp/train/think*q_fram...    think\n",
              "38  /content/gdrive/My Drive/Tp/train/think*q_fram...    think\n",
              "39  /content/gdrive/My Drive/Tp/train/think*q_fram...    think\n",
              "40  /content/gdrive/My Drive/Tp/train/morning*r_fr...  morning\n",
              "41  /content/gdrive/My Drive/Tp/train/morning*r_fr...  morning\n",
              "42  /content/gdrive/My Drive/Tp/train/morning*r_fr...  morning\n",
              "43  /content/gdrive/My Drive/Tp/train/morning*r_fr...  morning\n",
              "44  /content/gdrive/My Drive/Tp/train/good*i_frame...     good\n",
              "45  /content/gdrive/My Drive/Tp/train/good*i_frame...     good\n",
              "46  /content/gdrive/My Drive/Tp/train/good*i_frame...     good\n",
              "47  /content/gdrive/My Drive/Tp/train/think*j_fram...    think\n",
              "48  /content/gdrive/My Drive/Tp/train/think*j_fram...    think\n",
              "49  /content/gdrive/My Drive/Tp/train/think*j_fram...    think\n",
              "50  /content/gdrive/My Drive/Tp/train/think*j_fram...    think"
            ]
          },
          "metadata": {
            "tags": []
          },
          "execution_count": 9
        }
      ]
    },
    {
      "cell_type": "code",
      "metadata": {
        "id": "n-ZH246-27wG",
        "colab": {
          "base_uri": "https://localhost:8080/"
        },
        "outputId": "f9b94aa5-d8ca-4fc5-c459-0dd8b137391d"
      },
      "source": [
        "import keras\n",
        "from keras.models import Sequential\n",
        "from keras.applications.vgg16 import VGG16\n",
        "from keras.layers import Dense, InputLayer, Dropout, Flatten\n",
        "from keras.layers import Conv2D, MaxPooling2D, GlobalMaxPooling2D\n",
        "from keras.preprocessing import image\n",
        "import numpy as np\n",
        "import pandas as pd\n",
        "import matplotlib.pyplot as plt\n",
        "from tqdm import tqdm\n",
        "from sklearn.model_selection import train_test_split\n",
        "\n",
        "# creating an empty list\n",
        "train_image = []\n",
        "\n",
        "# for loop to read and store frames\n",
        "for i in tqdm(range(train.shape[0])):\n",
        "    # loading the image and keeping the target size as (224,224,3)\n",
        "    img = image.load_img(train['image'][i], target_size=(224,224,3))\n",
        "    # converting it to array\n",
        "    img = image.img_to_array(img)\n",
        "    # normalizing the pixel value\n",
        "    img = img/255\n",
        "    # appending the image to the train_image list\n",
        "    train_image.append(img)\n",
        "    \n",
        "# converting the list to numpy array\n",
        "X = np.array(train_image)\n",
        "\n",
        "# shape of the array\n",
        "X.shape"
      ],
      "execution_count": null,
      "outputs": [
        {
          "output_type": "stream",
          "text": [
            "100%|██████████| 51/51 [00:01<00:00, 37.20it/s]\n"
          ],
          "name": "stderr"
        },
        {
          "output_type": "execute_result",
          "data": {
            "text/plain": [
              "(51, 224, 224, 3)"
            ]
          },
          "metadata": {
            "tags": []
          },
          "execution_count": 10
        }
      ]
    },
    {
      "cell_type": "code",
      "metadata": {
        "id": "xCAI3OzU3MEL"
      },
      "source": [
        "y = train['class']\n",
        "\n",
        "# creating the training and validation set\n",
        "X_train, X_test, y_train, y_test = train_test_split(X, y, random_state=42, test_size=0.2, stratify = y)"
      ],
      "execution_count": null,
      "outputs": []
    },
    {
      "cell_type": "code",
      "metadata": {
        "id": "A5-06cDu3QKL"
      },
      "source": [
        "# creating dummies of target variable for train and validation set\n",
        "y_train = pd.get_dummies(y_train)\n",
        "y_test = pd.get_dummies(y_test)"
      ],
      "execution_count": null,
      "outputs": []
    },
    {
      "cell_type": "code",
      "metadata": {
        "id": "fNEIWXDI3SsL",
        "colab": {
          "base_uri": "https://localhost:8080/"
        },
        "outputId": "e01d6a25-7200-4be8-8932-b0c390b07e6f"
      },
      "source": [
        "base_model = VGG16(weights='imagenet', include_top=False)"
      ],
      "execution_count": null,
      "outputs": [
        {
          "output_type": "stream",
          "text": [
            "Downloading data from https://storage.googleapis.com/tensorflow/keras-applications/vgg16/vgg16_weights_tf_dim_ordering_tf_kernels_notop.h5\n",
            "58892288/58889256 [==============================] - 1s 0us/step\n"
          ],
          "name": "stdout"
        }
      ]
    },
    {
      "cell_type": "code",
      "metadata": {
        "id": "1f815ZmJ3WaK",
        "colab": {
          "base_uri": "https://localhost:8080/"
        },
        "outputId": "23a6dd06-48de-4661-c496-ca429699485f"
      },
      "source": [
        "X_train = base_model.predict(X_train)\n",
        "X_train.shape"
      ],
      "execution_count": null,
      "outputs": [
        {
          "output_type": "execute_result",
          "data": {
            "text/plain": [
              "(40, 7, 7, 512)"
            ]
          },
          "metadata": {
            "tags": []
          },
          "execution_count": 14
        }
      ]
    },
    {
      "cell_type": "code",
      "metadata": {
        "id": "j9qkZqcZ3dt0",
        "colab": {
          "base_uri": "https://localhost:8080/"
        },
        "outputId": "2b25d417-7c86-4a9c-9d70-4a413a4da44a"
      },
      "source": [
        "X_test = base_model.predict(X_test)\n",
        "X_test.shape"
      ],
      "execution_count": null,
      "outputs": [
        {
          "output_type": "execute_result",
          "data": {
            "text/plain": [
              "(11, 7, 7, 512)"
            ]
          },
          "metadata": {
            "tags": []
          },
          "execution_count": 15
        }
      ]
    },
    {
      "cell_type": "code",
      "metadata": {
        "id": "OIokoK5k3j-8"
      },
      "source": [
        "X_train = X_train.reshape(X_train.shape[0], 49,512)\n",
        "X_test = X_test.reshape(X_test.shape[0], 49,512)"
      ],
      "execution_count": null,
      "outputs": []
    },
    {
      "cell_type": "code",
      "metadata": {
        "id": "rO58TJyu4lK_",
        "colab": {
          "base_uri": "https://localhost:8080/"
        },
        "outputId": "f0a5b468-4961-49fa-ab84-762ae074a593"
      },
      "source": [
        "max = X_train.max()\n",
        "X_train = X_train/max\n",
        "X_test = X_test/max\n",
        "\n",
        "X_train.shape"
      ],
      "execution_count": null,
      "outputs": [
        {
          "output_type": "execute_result",
          "data": {
            "text/plain": [
              "(40, 49, 512)"
            ]
          },
          "metadata": {
            "tags": []
          },
          "execution_count": 17
        }
      ]
    },
    {
      "cell_type": "code",
      "metadata": {
        "id": "5BNMvpwO2G9P",
        "colab": {
          "base_uri": "https://localhost:8080/"
        },
        "outputId": "f954e960-ee21-4d9d-bf3f-62c1a984d728"
      },
      "source": [
        "from keras.layers import Dense,LSTM,Dropout\n",
        "model = Sequential()\n",
        "\n",
        "\n",
        "\n",
        "model.add(keras.layers.LSTM(512, input_shape=(X_train.shape[1:]), return_sequences=True))\n",
        "model.add(keras.layers.LSTM(256))\n",
        "\n",
        "model.add(keras.layers.Dense(64, activation='relu'))\n",
        "model.add(keras.layers.Dropout(0.3))\n",
        "\n",
        "# output layer\n",
        "model.add(keras.layers.Dense(4, activation='softmax'))\n",
        "model.summary()"
      ],
      "execution_count": null,
      "outputs": [
        {
          "output_type": "stream",
          "text": [
            "Model: \"sequential\"\n",
            "_________________________________________________________________\n",
            "Layer (type)                 Output Shape              Param #   \n",
            "=================================================================\n",
            "lstm (LSTM)                  (None, 49, 512)           2099200   \n",
            "_________________________________________________________________\n",
            "lstm_1 (LSTM)                (None, 256)               787456    \n",
            "_________________________________________________________________\n",
            "dense (Dense)                (None, 64)                16448     \n",
            "_________________________________________________________________\n",
            "dropout (Dropout)            (None, 64)                0         \n",
            "_________________________________________________________________\n",
            "dense_1 (Dense)              (None, 4)                 260       \n",
            "=================================================================\n",
            "Total params: 2,903,364\n",
            "Trainable params: 2,903,364\n",
            "Non-trainable params: 0\n",
            "_________________________________________________________________\n"
          ],
          "name": "stdout"
        }
      ]
    },
    {
      "cell_type": "code",
      "metadata": {
        "id": "5sF5dPmV1nR8"
      },
      "source": [
        "from keras.callbacks import ModelCheckpoint\n",
        "mcp_save = ModelCheckpoint('weight.hdf5', save_best_only=True, monitor='val_loss', mode='min')"
      ],
      "execution_count": null,
      "outputs": []
    },
    {
      "cell_type": "code",
      "metadata": {
        "id": "mKggdybN10hI"
      },
      "source": [
        "model.compile(loss='categorical_crossentropy',optimizer='Adam',metrics=['accuracy'])"
      ],
      "execution_count": null,
      "outputs": []
    },
    {
      "cell_type": "code",
      "metadata": {
        "id": "XcD1rZ0A12_C",
        "colab": {
          "base_uri": "https://localhost:8080/"
        },
        "outputId": "567c385f-423b-4376-ee57-1f260b53af71"
      },
      "source": [
        "# model.fit(X_train, y_train, epochs=50, validation_data=(X_test, y_test), callbacks=[mcp_save] ,batch_size=32)\n",
        "# zee=X_train.reshape(1,2,3)\n",
        "# model.fit(X_train, y_train, epochs=60, validation_data=(X_test, y_test) , callbacks=[mcp_save],batch_size=32)\n",
        "model.fit(X_train, y_train, epochs=60, validation_data=(X_test, y_test) ,batch_size=32)"
      ],
      "execution_count": null,
      "outputs": [
        {
          "output_type": "stream",
          "text": [
            "Epoch 1/60\n",
            "2/2 [==============================] - 1s 712ms/step - loss: 1.4126 - accuracy: 0.2000 - val_loss: 1.3977 - val_accuracy: 0.1818\n",
            "Epoch 2/60\n",
            "2/2 [==============================] - 1s 485ms/step - loss: 1.3912 - accuracy: 0.2500 - val_loss: 1.3678 - val_accuracy: 0.3636\n",
            "Epoch 3/60\n",
            "2/2 [==============================] - 1s 488ms/step - loss: 1.3991 - accuracy: 0.2500 - val_loss: 1.3587 - val_accuracy: 0.3636\n",
            "Epoch 4/60\n",
            "2/2 [==============================] - 1s 649ms/step - loss: 1.3813 - accuracy: 0.2750 - val_loss: 1.3574 - val_accuracy: 0.3636\n",
            "Epoch 5/60\n",
            "2/2 [==============================] - 1s 487ms/step - loss: 1.3548 - accuracy: 0.3250 - val_loss: 1.3522 - val_accuracy: 0.3636\n",
            "Epoch 6/60\n",
            "2/2 [==============================] - 1s 651ms/step - loss: 1.3837 - accuracy: 0.3250 - val_loss: 1.3566 - val_accuracy: 0.3636\n",
            "Epoch 7/60\n",
            "2/2 [==============================] - 1s 635ms/step - loss: 1.3524 - accuracy: 0.2750 - val_loss: 1.3495 - val_accuracy: 0.3636\n",
            "Epoch 8/60\n",
            "2/2 [==============================] - 1s 618ms/step - loss: 1.3125 - accuracy: 0.4000 - val_loss: 1.3635 - val_accuracy: 0.2727\n",
            "Epoch 9/60\n",
            "2/2 [==============================] - 1s 626ms/step - loss: 1.3873 - accuracy: 0.2750 - val_loss: 1.3562 - val_accuracy: 0.2727\n",
            "Epoch 10/60\n",
            "2/2 [==============================] - 1s 619ms/step - loss: 1.3465 - accuracy: 0.3000 - val_loss: 1.3569 - val_accuracy: 0.2727\n",
            "Epoch 11/60\n",
            "2/2 [==============================] - 1s 626ms/step - loss: 1.3187 - accuracy: 0.4000 - val_loss: 1.3601 - val_accuracy: 0.1818\n",
            "Epoch 12/60\n",
            "2/2 [==============================] - 1s 475ms/step - loss: 1.2501 - accuracy: 0.4500 - val_loss: 1.3395 - val_accuracy: 0.3636\n",
            "Epoch 13/60\n",
            "2/2 [==============================] - 1s 466ms/step - loss: 1.2690 - accuracy: 0.3500 - val_loss: 1.9178 - val_accuracy: 0.2727\n",
            "Epoch 14/60\n",
            "2/2 [==============================] - 1s 462ms/step - loss: 1.7111 - accuracy: 0.3000 - val_loss: 1.3501 - val_accuracy: 0.3636\n",
            "Epoch 15/60\n",
            "2/2 [==============================] - 1s 466ms/step - loss: 1.2475 - accuracy: 0.4250 - val_loss: 1.3337 - val_accuracy: 0.3636\n",
            "Epoch 16/60\n",
            "2/2 [==============================] - 1s 483ms/step - loss: 1.2134 - accuracy: 0.3750 - val_loss: 1.3280 - val_accuracy: 0.3636\n",
            "Epoch 17/60\n",
            "2/2 [==============================] - 1s 465ms/step - loss: 1.2692 - accuracy: 0.4000 - val_loss: 1.3238 - val_accuracy: 0.3636\n",
            "Epoch 18/60\n",
            "2/2 [==============================] - 1s 577ms/step - loss: 1.2230 - accuracy: 0.5000 - val_loss: 1.3672 - val_accuracy: 0.1818\n",
            "Epoch 19/60\n",
            "2/2 [==============================] - 1s 627ms/step - loss: 1.1304 - accuracy: 0.5750 - val_loss: 1.4219 - val_accuracy: 0.3636\n",
            "Epoch 20/60\n",
            "2/2 [==============================] - 1s 666ms/step - loss: 1.1086 - accuracy: 0.3750 - val_loss: 1.4075 - val_accuracy: 0.2727\n",
            "Epoch 21/60\n",
            "2/2 [==============================] - 1s 611ms/step - loss: 1.0522 - accuracy: 0.5250 - val_loss: 1.4343 - val_accuracy: 0.1818\n",
            "Epoch 22/60\n",
            "2/2 [==============================] - 1s 637ms/step - loss: 1.0303 - accuracy: 0.5500 - val_loss: 1.5436 - val_accuracy: 0.2727\n",
            "Epoch 23/60\n",
            "2/2 [==============================] - 1s 622ms/step - loss: 1.2534 - accuracy: 0.4250 - val_loss: 1.1871 - val_accuracy: 0.3636\n",
            "Epoch 24/60\n",
            "2/2 [==============================] - 1s 668ms/step - loss: 1.0296 - accuracy: 0.5500 - val_loss: 1.1687 - val_accuracy: 0.4545\n",
            "Epoch 25/60\n",
            "2/2 [==============================] - 1s 484ms/step - loss: 0.9492 - accuracy: 0.5250 - val_loss: 1.1836 - val_accuracy: 0.6364\n",
            "Epoch 26/60\n",
            "2/2 [==============================] - 1s 617ms/step - loss: 0.9317 - accuracy: 0.7250 - val_loss: 1.1370 - val_accuracy: 0.6364\n",
            "Epoch 27/60\n",
            "2/2 [==============================] - 1s 621ms/step - loss: 0.8109 - accuracy: 0.6500 - val_loss: 1.4235 - val_accuracy: 0.3636\n",
            "Epoch 28/60\n",
            "2/2 [==============================] - 1s 475ms/step - loss: 0.8894 - accuracy: 0.6250 - val_loss: 1.8668 - val_accuracy: 0.2727\n",
            "Epoch 29/60\n",
            "2/2 [==============================] - 1s 609ms/step - loss: 1.3714 - accuracy: 0.5000 - val_loss: 1.7738 - val_accuracy: 0.2727\n",
            "Epoch 30/60\n",
            "2/2 [==============================] - 1s 459ms/step - loss: 1.1307 - accuracy: 0.5000 - val_loss: 1.6658 - val_accuracy: 0.3636\n",
            "Epoch 31/60\n",
            "2/2 [==============================] - 1s 389ms/step - loss: 1.0592 - accuracy: 0.5500 - val_loss: 1.4551 - val_accuracy: 0.2727\n",
            "Epoch 32/60\n",
            "2/2 [==============================] - 1s 393ms/step - loss: 0.8929 - accuracy: 0.6750 - val_loss: 1.3073 - val_accuracy: 0.1818\n",
            "Epoch 33/60\n",
            "2/2 [==============================] - 1s 473ms/step - loss: 0.8730 - accuracy: 0.6750 - val_loss: 1.2712 - val_accuracy: 0.2727\n",
            "Epoch 34/60\n",
            "2/2 [==============================] - 1s 495ms/step - loss: 0.7579 - accuracy: 0.7500 - val_loss: 1.6698 - val_accuracy: 0.2727\n",
            "Epoch 35/60\n",
            "2/2 [==============================] - 1s 492ms/step - loss: 0.9262 - accuracy: 0.6000 - val_loss: 1.4299 - val_accuracy: 0.2727\n",
            "Epoch 36/60\n",
            "2/2 [==============================] - 1s 471ms/step - loss: 0.7138 - accuracy: 0.7500 - val_loss: 1.4762 - val_accuracy: 0.3636\n",
            "Epoch 37/60\n",
            "2/2 [==============================] - 1s 347ms/step - loss: 0.5798 - accuracy: 0.9000 - val_loss: 1.2717 - val_accuracy: 0.5455\n",
            "Epoch 38/60\n",
            "2/2 [==============================] - 1s 401ms/step - loss: 0.6908 - accuracy: 0.6250 - val_loss: 1.1701 - val_accuracy: 0.3636\n",
            "Epoch 39/60\n",
            "2/2 [==============================] - 1s 482ms/step - loss: 0.4650 - accuracy: 0.9000 - val_loss: 1.3222 - val_accuracy: 0.4545\n",
            "Epoch 40/60\n",
            "2/2 [==============================] - 1s 471ms/step - loss: 0.4676 - accuracy: 0.8250 - val_loss: 1.3052 - val_accuracy: 0.5455\n",
            "Epoch 41/60\n",
            "2/2 [==============================] - 1s 605ms/step - loss: 0.3384 - accuracy: 0.9000 - val_loss: 1.3279 - val_accuracy: 0.4545\n",
            "Epoch 42/60\n",
            "2/2 [==============================] - 1s 489ms/step - loss: 0.2460 - accuracy: 0.9500 - val_loss: 1.7225 - val_accuracy: 0.3636\n",
            "Epoch 43/60\n",
            "2/2 [==============================] - 1s 636ms/step - loss: 0.3724 - accuracy: 0.8500 - val_loss: 1.1412 - val_accuracy: 0.4545\n",
            "Epoch 44/60\n",
            "2/2 [==============================] - 1s 477ms/step - loss: 0.2088 - accuracy: 0.9250 - val_loss: 2.1478 - val_accuracy: 0.5455\n",
            "Epoch 45/60\n",
            "2/2 [==============================] - 1s 621ms/step - loss: 1.2269 - accuracy: 0.7250 - val_loss: 1.8730 - val_accuracy: 0.4545\n",
            "Epoch 46/60\n",
            "2/2 [==============================] - 1s 494ms/step - loss: 0.2326 - accuracy: 0.9000 - val_loss: 2.0192 - val_accuracy: 0.2727\n",
            "Epoch 47/60\n",
            "2/2 [==============================] - 1s 526ms/step - loss: 0.3006 - accuracy: 0.9250 - val_loss: 1.8585 - val_accuracy: 0.6364\n",
            "Epoch 48/60\n",
            "2/2 [==============================] - 1s 646ms/step - loss: 1.0340 - accuracy: 0.6000 - val_loss: 1.1718 - val_accuracy: 0.3636\n",
            "Epoch 49/60\n",
            "2/2 [==============================] - 1s 507ms/step - loss: 0.3173 - accuracy: 0.9000 - val_loss: 1.9131 - val_accuracy: 0.3636\n",
            "Epoch 50/60\n",
            "2/2 [==============================] - 1s 634ms/step - loss: 0.8703 - accuracy: 0.5750 - val_loss: 1.6089 - val_accuracy: 0.2727\n",
            "Epoch 51/60\n",
            "2/2 [==============================] - 1s 452ms/step - loss: 0.6070 - accuracy: 0.7750 - val_loss: 1.4385 - val_accuracy: 0.3636\n",
            "Epoch 52/60\n",
            "2/2 [==============================] - 1s 601ms/step - loss: 0.5260 - accuracy: 0.8250 - val_loss: 1.5035 - val_accuracy: 0.4545\n",
            "Epoch 53/60\n",
            "2/2 [==============================] - 1s 524ms/step - loss: 0.5994 - accuracy: 0.8250 - val_loss: 1.3390 - val_accuracy: 0.4545\n",
            "Epoch 54/60\n",
            "2/2 [==============================] - 1s 713ms/step - loss: 0.5243 - accuracy: 0.8250 - val_loss: 1.0981 - val_accuracy: 0.4545\n",
            "Epoch 55/60\n",
            "2/2 [==============================] - 1s 743ms/step - loss: 0.3906 - accuracy: 0.9500 - val_loss: 1.0411 - val_accuracy: 0.5455\n",
            "Epoch 56/60\n",
            "2/2 [==============================] - 1s 469ms/step - loss: 0.3581 - accuracy: 0.9500 - val_loss: 0.9236 - val_accuracy: 0.5455\n",
            "Epoch 57/60\n",
            "2/2 [==============================] - 1s 475ms/step - loss: 0.2159 - accuracy: 0.9500 - val_loss: 0.9139 - val_accuracy: 0.5455\n",
            "Epoch 58/60\n",
            "2/2 [==============================] - 1s 634ms/step - loss: 0.1426 - accuracy: 1.0000 - val_loss: 0.9963 - val_accuracy: 0.6364\n",
            "Epoch 59/60\n",
            "2/2 [==============================] - 1s 479ms/step - loss: 0.1278 - accuracy: 0.9750 - val_loss: 1.1656 - val_accuracy: 0.7273\n",
            "Epoch 60/60\n",
            "2/2 [==============================] - 1s 542ms/step - loss: 0.0959 - accuracy: 0.9750 - val_loss: 1.6827 - val_accuracy: 0.5455\n"
          ],
          "name": "stdout"
        },
        {
          "output_type": "execute_result",
          "data": {
            "text/plain": [
              "<tensorflow.python.keras.callbacks.History at 0x7f53f8773e80>"
            ]
          },
          "metadata": {
            "tags": []
          },
          "execution_count": 21
        }
      ]
    },
    {
      "cell_type": "code",
      "metadata": {
        "id": "XQARsdK_2NEA"
      },
      "source": [
        "from keras.models import Sequential\n",
        "from keras.layers import Dense, Dropout, Flatten\n",
        "from keras.layers import Conv2D, MaxPooling2D\n",
        "from keras.preprocessing import image\n",
        "import numpy as np\n",
        "import pandas as pd\n",
        "from tqdm import tqdm\n",
        "from keras.applications.vgg16 import VGG16\n",
        "import cv2\n",
        "import math\n",
        "import os\n",
        "from glob import glob\n",
        "from scipy import stats as s\n",
        "base_model = VGG16(weights='imagenet', include_top=False)"
      ],
      "execution_count": null,
      "outputs": []
    },
    {
      "cell_type": "code",
      "metadata": {
        "id": "JuqNfULj2SKQ"
      },
      "source": [
        "# model.load_weights(\"weight.hdf5\")"
      ],
      "execution_count": null,
      "outputs": []
    },
    {
      "cell_type": "code",
      "metadata": {
        "id": "MtNCqGae250s"
      },
      "source": [
        "model.compile(loss='categorical_crossentropy',optimizer='Adam',metrics=['accuracy'])"
      ],
      "execution_count": null,
      "outputs": []
    },
    {
      "cell_type": "code",
      "metadata": {
        "id": "7P64c6gH29LB",
        "colab": {
          "base_uri": "https://localhost:8080/",
          "height": 266
        },
        "outputId": "1b11c126-6366-42c6-c71a-bdb44a5a7450"
      },
      "source": [
        "f = open(\"/content/gdrive/My Drive/Tp/aass2.txt\", \"r\")\n",
        "temp = f.read()\n",
        "videos = temp.split('\\n')\n",
        "\n",
        "# creating the dataframe\n",
        "test = pd.DataFrame()\n",
        "test['video_name'] = videos\n",
        "\n",
        "test_videos = test['video_name']\n",
        "test"
      ],
      "execution_count": null,
      "outputs": [
        {
          "output_type": "execute_result",
          "data": {
            "text/html": [
              "<div>\n",
              "<style scoped>\n",
              "    .dataframe tbody tr th:only-of-type {\n",
              "        vertical-align: middle;\n",
              "    }\n",
              "\n",
              "    .dataframe tbody tr th {\n",
              "        vertical-align: top;\n",
              "    }\n",
              "\n",
              "    .dataframe thead th {\n",
              "        text-align: right;\n",
              "    }\n",
              "</style>\n",
              "<table border=\"1\" class=\"dataframe\">\n",
              "  <thead>\n",
              "    <tr style=\"text-align: right;\">\n",
              "      <th></th>\n",
              "      <th>video_name</th>\n",
              "    </tr>\n",
              "  </thead>\n",
              "  <tbody>\n",
              "    <tr>\n",
              "      <th>0</th>\n",
              "      <td>think/think*k.mp4</td>\n",
              "    </tr>\n",
              "    <tr>\n",
              "      <th>1</th>\n",
              "      <td>good/good*m.mp4</td>\n",
              "    </tr>\n",
              "    <tr>\n",
              "      <th>2</th>\n",
              "      <td>i/i*n.mp4</td>\n",
              "    </tr>\n",
              "    <tr>\n",
              "      <th>3</th>\n",
              "      <td>morning/morning*p.mp4</td>\n",
              "    </tr>\n",
              "    <tr>\n",
              "      <th>4</th>\n",
              "      <td>i/i*aa.mp4</td>\n",
              "    </tr>\n",
              "    <tr>\n",
              "      <th>5</th>\n",
              "      <td>think/think*bb.mp4</td>\n",
              "    </tr>\n",
              "    <tr>\n",
              "      <th>6</th>\n",
              "      <td>morning/morning*cc.mp4</td>\n",
              "    </tr>\n",
              "  </tbody>\n",
              "</table>\n",
              "</div>"
            ],
            "text/plain": [
              "               video_name\n",
              "0       think/think*k.mp4\n",
              "1         good/good*m.mp4\n",
              "2               i/i*n.mp4\n",
              "3   morning/morning*p.mp4\n",
              "4              i/i*aa.mp4\n",
              "5      think/think*bb.mp4\n",
              "6  morning/morning*cc.mp4"
            ]
          },
          "metadata": {
            "tags": []
          },
          "execution_count": 25
        }
      ]
    },
    {
      "cell_type": "code",
      "metadata": {
        "id": "fTbxviCk3Fvy"
      },
      "source": [
        "train = pd.read_csv('/content/gdrive/My Drive/Tp/train_new2.csv')\n",
        "y = train['class']\n",
        "y = pd.get_dummies(y)"
      ],
      "execution_count": null,
      "outputs": []
    },
    {
      "cell_type": "code",
      "metadata": {
        "id": "ATbe2K9c60av",
        "colab": {
          "base_uri": "https://localhost:8080/",
          "height": 1000
        },
        "outputId": "5a08454f-124d-4ce5-d5fb-96b2fb551db5"
      },
      "source": [
        "y"
      ],
      "execution_count": null,
      "outputs": [
        {
          "output_type": "execute_result",
          "data": {
            "text/html": [
              "<div>\n",
              "<style scoped>\n",
              "    .dataframe tbody tr th:only-of-type {\n",
              "        vertical-align: middle;\n",
              "    }\n",
              "\n",
              "    .dataframe tbody tr th {\n",
              "        vertical-align: top;\n",
              "    }\n",
              "\n",
              "    .dataframe thead th {\n",
              "        text-align: right;\n",
              "    }\n",
              "</style>\n",
              "<table border=\"1\" class=\"dataframe\">\n",
              "  <thead>\n",
              "    <tr style=\"text-align: right;\">\n",
              "      <th></th>\n",
              "      <th>good</th>\n",
              "      <th>i</th>\n",
              "      <th>morning</th>\n",
              "      <th>think</th>\n",
              "    </tr>\n",
              "  </thead>\n",
              "  <tbody>\n",
              "    <tr>\n",
              "      <th>0</th>\n",
              "      <td>0</td>\n",
              "      <td>0</td>\n",
              "      <td>1</td>\n",
              "      <td>0</td>\n",
              "    </tr>\n",
              "    <tr>\n",
              "      <th>1</th>\n",
              "      <td>0</td>\n",
              "      <td>0</td>\n",
              "      <td>1</td>\n",
              "      <td>0</td>\n",
              "    </tr>\n",
              "    <tr>\n",
              "      <th>2</th>\n",
              "      <td>0</td>\n",
              "      <td>0</td>\n",
              "      <td>1</td>\n",
              "      <td>0</td>\n",
              "    </tr>\n",
              "    <tr>\n",
              "      <th>3</th>\n",
              "      <td>0</td>\n",
              "      <td>0</td>\n",
              "      <td>1</td>\n",
              "      <td>0</td>\n",
              "    </tr>\n",
              "    <tr>\n",
              "      <th>4</th>\n",
              "      <td>0</td>\n",
              "      <td>0</td>\n",
              "      <td>1</td>\n",
              "      <td>0</td>\n",
              "    </tr>\n",
              "    <tr>\n",
              "      <th>5</th>\n",
              "      <td>0</td>\n",
              "      <td>0</td>\n",
              "      <td>1</td>\n",
              "      <td>0</td>\n",
              "    </tr>\n",
              "    <tr>\n",
              "      <th>6</th>\n",
              "      <td>0</td>\n",
              "      <td>0</td>\n",
              "      <td>1</td>\n",
              "      <td>0</td>\n",
              "    </tr>\n",
              "    <tr>\n",
              "      <th>7</th>\n",
              "      <td>0</td>\n",
              "      <td>0</td>\n",
              "      <td>0</td>\n",
              "      <td>1</td>\n",
              "    </tr>\n",
              "    <tr>\n",
              "      <th>8</th>\n",
              "      <td>0</td>\n",
              "      <td>0</td>\n",
              "      <td>0</td>\n",
              "      <td>1</td>\n",
              "    </tr>\n",
              "    <tr>\n",
              "      <th>9</th>\n",
              "      <td>0</td>\n",
              "      <td>0</td>\n",
              "      <td>0</td>\n",
              "      <td>1</td>\n",
              "    </tr>\n",
              "    <tr>\n",
              "      <th>10</th>\n",
              "      <td>0</td>\n",
              "      <td>0</td>\n",
              "      <td>0</td>\n",
              "      <td>1</td>\n",
              "    </tr>\n",
              "    <tr>\n",
              "      <th>11</th>\n",
              "      <td>0</td>\n",
              "      <td>0</td>\n",
              "      <td>0</td>\n",
              "      <td>1</td>\n",
              "    </tr>\n",
              "    <tr>\n",
              "      <th>12</th>\n",
              "      <td>0</td>\n",
              "      <td>0</td>\n",
              "      <td>0</td>\n",
              "      <td>1</td>\n",
              "    </tr>\n",
              "    <tr>\n",
              "      <th>13</th>\n",
              "      <td>0</td>\n",
              "      <td>0</td>\n",
              "      <td>0</td>\n",
              "      <td>1</td>\n",
              "    </tr>\n",
              "    <tr>\n",
              "      <th>14</th>\n",
              "      <td>0</td>\n",
              "      <td>0</td>\n",
              "      <td>0</td>\n",
              "      <td>1</td>\n",
              "    </tr>\n",
              "    <tr>\n",
              "      <th>15</th>\n",
              "      <td>0</td>\n",
              "      <td>1</td>\n",
              "      <td>0</td>\n",
              "      <td>0</td>\n",
              "    </tr>\n",
              "    <tr>\n",
              "      <th>16</th>\n",
              "      <td>0</td>\n",
              "      <td>1</td>\n",
              "      <td>0</td>\n",
              "      <td>0</td>\n",
              "    </tr>\n",
              "    <tr>\n",
              "      <th>17</th>\n",
              "      <td>0</td>\n",
              "      <td>1</td>\n",
              "      <td>0</td>\n",
              "      <td>0</td>\n",
              "    </tr>\n",
              "    <tr>\n",
              "      <th>18</th>\n",
              "      <td>0</td>\n",
              "      <td>1</td>\n",
              "      <td>0</td>\n",
              "      <td>0</td>\n",
              "    </tr>\n",
              "    <tr>\n",
              "      <th>19</th>\n",
              "      <td>0</td>\n",
              "      <td>1</td>\n",
              "      <td>0</td>\n",
              "      <td>0</td>\n",
              "    </tr>\n",
              "    <tr>\n",
              "      <th>20</th>\n",
              "      <td>0</td>\n",
              "      <td>1</td>\n",
              "      <td>0</td>\n",
              "      <td>0</td>\n",
              "    </tr>\n",
              "    <tr>\n",
              "      <th>21</th>\n",
              "      <td>0</td>\n",
              "      <td>1</td>\n",
              "      <td>0</td>\n",
              "      <td>0</td>\n",
              "    </tr>\n",
              "    <tr>\n",
              "      <th>22</th>\n",
              "      <td>0</td>\n",
              "      <td>1</td>\n",
              "      <td>0</td>\n",
              "      <td>0</td>\n",
              "    </tr>\n",
              "    <tr>\n",
              "      <th>23</th>\n",
              "      <td>0</td>\n",
              "      <td>1</td>\n",
              "      <td>0</td>\n",
              "      <td>0</td>\n",
              "    </tr>\n",
              "    <tr>\n",
              "      <th>24</th>\n",
              "      <td>0</td>\n",
              "      <td>1</td>\n",
              "      <td>0</td>\n",
              "      <td>0</td>\n",
              "    </tr>\n",
              "    <tr>\n",
              "      <th>25</th>\n",
              "      <td>0</td>\n",
              "      <td>1</td>\n",
              "      <td>0</td>\n",
              "      <td>0</td>\n",
              "    </tr>\n",
              "    <tr>\n",
              "      <th>26</th>\n",
              "      <td>1</td>\n",
              "      <td>0</td>\n",
              "      <td>0</td>\n",
              "      <td>0</td>\n",
              "    </tr>\n",
              "    <tr>\n",
              "      <th>27</th>\n",
              "      <td>1</td>\n",
              "      <td>0</td>\n",
              "      <td>0</td>\n",
              "      <td>0</td>\n",
              "    </tr>\n",
              "    <tr>\n",
              "      <th>28</th>\n",
              "      <td>1</td>\n",
              "      <td>0</td>\n",
              "      <td>0</td>\n",
              "      <td>0</td>\n",
              "    </tr>\n",
              "    <tr>\n",
              "      <th>29</th>\n",
              "      <td>1</td>\n",
              "      <td>0</td>\n",
              "      <td>0</td>\n",
              "      <td>0</td>\n",
              "    </tr>\n",
              "    <tr>\n",
              "      <th>30</th>\n",
              "      <td>1</td>\n",
              "      <td>0</td>\n",
              "      <td>0</td>\n",
              "      <td>0</td>\n",
              "    </tr>\n",
              "    <tr>\n",
              "      <th>31</th>\n",
              "      <td>1</td>\n",
              "      <td>0</td>\n",
              "      <td>0</td>\n",
              "      <td>0</td>\n",
              "    </tr>\n",
              "    <tr>\n",
              "      <th>32</th>\n",
              "      <td>1</td>\n",
              "      <td>0</td>\n",
              "      <td>0</td>\n",
              "      <td>0</td>\n",
              "    </tr>\n",
              "    <tr>\n",
              "      <th>33</th>\n",
              "      <td>0</td>\n",
              "      <td>1</td>\n",
              "      <td>0</td>\n",
              "      <td>0</td>\n",
              "    </tr>\n",
              "    <tr>\n",
              "      <th>34</th>\n",
              "      <td>0</td>\n",
              "      <td>1</td>\n",
              "      <td>0</td>\n",
              "      <td>0</td>\n",
              "    </tr>\n",
              "    <tr>\n",
              "      <th>35</th>\n",
              "      <td>0</td>\n",
              "      <td>1</td>\n",
              "      <td>0</td>\n",
              "      <td>0</td>\n",
              "    </tr>\n",
              "    <tr>\n",
              "      <th>36</th>\n",
              "      <td>0</td>\n",
              "      <td>0</td>\n",
              "      <td>0</td>\n",
              "      <td>1</td>\n",
              "    </tr>\n",
              "    <tr>\n",
              "      <th>37</th>\n",
              "      <td>0</td>\n",
              "      <td>0</td>\n",
              "      <td>0</td>\n",
              "      <td>1</td>\n",
              "    </tr>\n",
              "    <tr>\n",
              "      <th>38</th>\n",
              "      <td>0</td>\n",
              "      <td>0</td>\n",
              "      <td>0</td>\n",
              "      <td>1</td>\n",
              "    </tr>\n",
              "    <tr>\n",
              "      <th>39</th>\n",
              "      <td>0</td>\n",
              "      <td>0</td>\n",
              "      <td>0</td>\n",
              "      <td>1</td>\n",
              "    </tr>\n",
              "    <tr>\n",
              "      <th>40</th>\n",
              "      <td>0</td>\n",
              "      <td>0</td>\n",
              "      <td>1</td>\n",
              "      <td>0</td>\n",
              "    </tr>\n",
              "    <tr>\n",
              "      <th>41</th>\n",
              "      <td>0</td>\n",
              "      <td>0</td>\n",
              "      <td>1</td>\n",
              "      <td>0</td>\n",
              "    </tr>\n",
              "    <tr>\n",
              "      <th>42</th>\n",
              "      <td>0</td>\n",
              "      <td>0</td>\n",
              "      <td>1</td>\n",
              "      <td>0</td>\n",
              "    </tr>\n",
              "    <tr>\n",
              "      <th>43</th>\n",
              "      <td>0</td>\n",
              "      <td>0</td>\n",
              "      <td>1</td>\n",
              "      <td>0</td>\n",
              "    </tr>\n",
              "    <tr>\n",
              "      <th>44</th>\n",
              "      <td>1</td>\n",
              "      <td>0</td>\n",
              "      <td>0</td>\n",
              "      <td>0</td>\n",
              "    </tr>\n",
              "    <tr>\n",
              "      <th>45</th>\n",
              "      <td>1</td>\n",
              "      <td>0</td>\n",
              "      <td>0</td>\n",
              "      <td>0</td>\n",
              "    </tr>\n",
              "    <tr>\n",
              "      <th>46</th>\n",
              "      <td>1</td>\n",
              "      <td>0</td>\n",
              "      <td>0</td>\n",
              "      <td>0</td>\n",
              "    </tr>\n",
              "    <tr>\n",
              "      <th>47</th>\n",
              "      <td>0</td>\n",
              "      <td>0</td>\n",
              "      <td>0</td>\n",
              "      <td>1</td>\n",
              "    </tr>\n",
              "    <tr>\n",
              "      <th>48</th>\n",
              "      <td>0</td>\n",
              "      <td>0</td>\n",
              "      <td>0</td>\n",
              "      <td>1</td>\n",
              "    </tr>\n",
              "    <tr>\n",
              "      <th>49</th>\n",
              "      <td>0</td>\n",
              "      <td>0</td>\n",
              "      <td>0</td>\n",
              "      <td>1</td>\n",
              "    </tr>\n",
              "    <tr>\n",
              "      <th>50</th>\n",
              "      <td>0</td>\n",
              "      <td>0</td>\n",
              "      <td>0</td>\n",
              "      <td>1</td>\n",
              "    </tr>\n",
              "  </tbody>\n",
              "</table>\n",
              "</div>"
            ],
            "text/plain": [
              "    good  i  morning  think\n",
              "0      0  0        1      0\n",
              "1      0  0        1      0\n",
              "2      0  0        1      0\n",
              "3      0  0        1      0\n",
              "4      0  0        1      0\n",
              "5      0  0        1      0\n",
              "6      0  0        1      0\n",
              "7      0  0        0      1\n",
              "8      0  0        0      1\n",
              "9      0  0        0      1\n",
              "10     0  0        0      1\n",
              "11     0  0        0      1\n",
              "12     0  0        0      1\n",
              "13     0  0        0      1\n",
              "14     0  0        0      1\n",
              "15     0  1        0      0\n",
              "16     0  1        0      0\n",
              "17     0  1        0      0\n",
              "18     0  1        0      0\n",
              "19     0  1        0      0\n",
              "20     0  1        0      0\n",
              "21     0  1        0      0\n",
              "22     0  1        0      0\n",
              "23     0  1        0      0\n",
              "24     0  1        0      0\n",
              "25     0  1        0      0\n",
              "26     1  0        0      0\n",
              "27     1  0        0      0\n",
              "28     1  0        0      0\n",
              "29     1  0        0      0\n",
              "30     1  0        0      0\n",
              "31     1  0        0      0\n",
              "32     1  0        0      0\n",
              "33     0  1        0      0\n",
              "34     0  1        0      0\n",
              "35     0  1        0      0\n",
              "36     0  0        0      1\n",
              "37     0  0        0      1\n",
              "38     0  0        0      1\n",
              "39     0  0        0      1\n",
              "40     0  0        1      0\n",
              "41     0  0        1      0\n",
              "42     0  0        1      0\n",
              "43     0  0        1      0\n",
              "44     1  0        0      0\n",
              "45     1  0        0      0\n",
              "46     1  0        0      0\n",
              "47     0  0        0      1\n",
              "48     0  0        0      1\n",
              "49     0  0        0      1\n",
              "50     0  0        0      1"
            ]
          },
          "metadata": {
            "tags": []
          },
          "execution_count": 27
        }
      ]
    },
    {
      "cell_type": "markdown",
      "metadata": {
        "id": "hrUBWRrNEqh4"
      },
      "source": [
        "Use probablity here sigmoid "
      ]
    },
    {
      "cell_type": "code",
      "metadata": {
        "id": "towu7l-Lkr9E"
      },
      "source": [
        "files = glob(\"/content/gdrive/My Drive/Tp/test/*.jpg\")\n",
        "for f in files:\n",
        "  os.remove(f)"
      ],
      "execution_count": null,
      "outputs": []
    },
    {
      "cell_type": "code",
      "metadata": {
        "id": "gVBzmqmD3JZS",
        "colab": {
          "base_uri": "https://localhost:8080/"
        },
        "outputId": "7455676c-c39e-4eed-9e51-e1f504e2c837"
      },
      "source": [
        "predict = []\n",
        "actual = []\n",
        "from sklearn.metrics import accuracy_score\n",
        "print(\"shape is\",test_videos.shape[0])\n",
        "# for loop to extract frames from each test video\n",
        "for i in tqdm(range(test_videos.shape[0])):\n",
        "    count = 0\n",
        "    videoFile = test_videos[i]\n",
        "    \n",
        "    cap = cv2.VideoCapture('/content/gdrive/My Drive/Tp/'+videoFile.split('/')[1].split(' ')[0].split('*')[1])   # capturing the video from the given path\n",
        "    frameRate = cap.get(5) #frame rate\n",
        "    x=1\n",
        "    # removing all other files from the test folder\n",
        "    files = glob(\"/content/gdrive/My Drive/Tp/test/*.jpg\")\n",
        "    for f in files:\n",
        "        os.remove(f)\n",
        "    while(cap.isOpened()):\n",
        "        frameId = cap.get(1) #current frame number\n",
        "        ret, frame = cap.read()\n",
        "        if (ret != True):\n",
        "            break\n",
        "        if (frameId % math.floor(frameRate) == 0):\n",
        "            # storing the frames of this particular video in temp folder\n",
        "            filename ='/content/gdrive/My Drive/Tp/test/'+videoFile.split('/')[1].split(' ')[0].split('.')[0] +\"_frame%d.jpg\" % count;count+=1\n",
        "            \n",
        "            cv2.imwrite(filename, frame)\n",
        "    cap.release()\n",
        "    print(predict)\n",
        "    # reading all the frames from temp folder\n",
        "    images = glob(\"/content/gdrive/My Drive/Tp/test/*.jpg\")\n",
        "    print(images)\n",
        "    prediction_images = []\n",
        "    for i in range(len(images)):\n",
        "        img = image.load_img(images[i], target_size=(224,224,3))\n",
        "        img = image.img_to_array(img)\n",
        "        img = img/255\n",
        "        prediction_images.append(img)\n",
        "       \n",
        "    # converting all the frames for a test video into numpy array\n",
        "    prediction_images = np.array(prediction_images)\n",
        "    # extracting features using pre-trained model\n",
        "    prediction_images = base_model.predict(prediction_images)\n",
        "    # converting features in one dimensional array\n",
        "    prediction_images = prediction_images.reshape(prediction_images.shape[0], 49,512)\n",
        "    # print(prediction_images)\n",
        "    # predicting tags for each array\n",
        "    prediction=[]\n",
        "    print(\"pred img shape\",prediction_images.shape)\n",
        "    prediction = model.predict_classes(prediction_images)\n",
        "    print(prediction)\n",
        "    # appending the mode of predictions in predict list to assign the tag to the video\n",
        "    print(\"hi\",y.columns.values[1])\n",
        "    predict.append(y.columns.values[s.mode(prediction)[0][0]])\n",
        "    # appending the actual tag of the video\n",
        "    print(videoFile)\n",
        "    actual.append(videoFile.split('/')[0])\n",
        "    print(\"hereee\")\n",
        "    print(predict)\n",
        "    print(\"------------------------\")\n",
        "    print(\"this is\",accuracy_score(predict, actual)*100)"
      ],
      "execution_count": null,
      "outputs": [
        {
          "output_type": "stream",
          "text": [
            "\r  0%|          | 0/7 [00:00<?, ?it/s]"
          ],
          "name": "stderr"
        },
        {
          "output_type": "stream",
          "text": [
            "shape is 7\n",
            "[]\n",
            "['/content/gdrive/My Drive/Tp/test/think*k_frame0.jpg', '/content/gdrive/My Drive/Tp/test/think*k_frame1.jpg', '/content/gdrive/My Drive/Tp/test/think*k_frame2.jpg']\n",
            "pred img shape (3, 49, 512)\n",
            "WARNING:tensorflow:From <ipython-input-29-e72bccd0b9d9>:49: Sequential.predict_classes (from tensorflow.python.keras.engine.sequential) is deprecated and will be removed after 2021-01-01.\n",
            "Instructions for updating:\n",
            "Please use instead:* `np.argmax(model.predict(x), axis=-1)`,   if your model does multi-class classification   (e.g. if it uses a `softmax` last-layer activation).* `(model.predict(x) > 0.5).astype(\"int32\")`,   if your model does binary classification   (e.g. if it uses a `sigmoid` last-layer activation).\n"
          ],
          "name": "stdout"
        },
        {
          "output_type": "stream",
          "text": [
            "\r 14%|█▍        | 1/7 [00:03<00:19,  3.32s/it]"
          ],
          "name": "stderr"
        },
        {
          "output_type": "stream",
          "text": [
            "[1 1 1]\n",
            "hi i\n",
            "think/think*k.mp4\n",
            "hereee\n",
            "['i']\n",
            "------------------------\n",
            "this is 0.0\n",
            "['i']\n",
            "['/content/gdrive/My Drive/Tp/test/good*m_frame0.jpg', '/content/gdrive/My Drive/Tp/test/good*m_frame1.jpg', '/content/gdrive/My Drive/Tp/test/good*m_frame2.jpg', '/content/gdrive/My Drive/Tp/test/good*m_frame3.jpg']\n"
          ],
          "name": "stdout"
        },
        {
          "output_type": "stream",
          "text": [
            "\r 29%|██▊       | 2/7 [00:06<00:16,  3.21s/it]"
          ],
          "name": "stderr"
        },
        {
          "output_type": "stream",
          "text": [
            "pred img shape (4, 49, 512)\n",
            "[1 1 1 1]\n",
            "hi i\n",
            "good/good*m.mp4\n",
            "hereee\n",
            "['i', 'i']\n",
            "------------------------\n",
            "this is 0.0\n",
            "['i', 'i']\n",
            "['/content/gdrive/My Drive/Tp/test/i*n_frame0.jpg', '/content/gdrive/My Drive/Tp/test/i*n_frame1.jpg', '/content/gdrive/My Drive/Tp/test/i*n_frame2.jpg']\n"
          ],
          "name": "stdout"
        },
        {
          "output_type": "stream",
          "text": [
            "\r 43%|████▎     | 3/7 [00:08<00:11,  2.97s/it]"
          ],
          "name": "stderr"
        },
        {
          "output_type": "stream",
          "text": [
            "pred img shape (3, 49, 512)\n",
            "[1 1 1]\n",
            "hi i\n",
            "i/i*n.mp4\n",
            "hereee\n",
            "['i', 'i', 'i']\n",
            "------------------------\n",
            "this is 33.33333333333333\n",
            "['i', 'i', 'i']\n",
            "['/content/gdrive/My Drive/Tp/test/morning*p_frame0.jpg', '/content/gdrive/My Drive/Tp/test/morning*p_frame1.jpg', '/content/gdrive/My Drive/Tp/test/morning*p_frame2.jpg', '/content/gdrive/My Drive/Tp/test/morning*p_frame3.jpg']\n"
          ],
          "name": "stdout"
        },
        {
          "output_type": "stream",
          "text": [
            "\r 57%|█████▋    | 4/7 [00:11<00:08,  2.92s/it]"
          ],
          "name": "stderr"
        },
        {
          "output_type": "stream",
          "text": [
            "pred img shape (4, 49, 512)\n",
            "[1 1 1 1]\n",
            "hi i\n",
            "morning/morning*p.mp4\n",
            "hereee\n",
            "['i', 'i', 'i', 'i']\n",
            "------------------------\n",
            "this is 25.0\n",
            "['i', 'i', 'i', 'i']\n",
            "['/content/gdrive/My Drive/Tp/test/i*aa_frame0.jpg', '/content/gdrive/My Drive/Tp/test/i*aa_frame1.jpg']\n"
          ],
          "name": "stdout"
        },
        {
          "output_type": "stream",
          "text": [
            "\r 71%|███████▏  | 5/7 [00:14<00:05,  2.82s/it]"
          ],
          "name": "stderr"
        },
        {
          "output_type": "stream",
          "text": [
            "pred img shape (2, 49, 512)\n",
            "[1 1]\n",
            "hi i\n",
            "i/i*aa.mp4\n",
            "hereee\n",
            "['i', 'i', 'i', 'i', 'i']\n",
            "------------------------\n",
            "this is 40.0\n",
            "['i', 'i', 'i', 'i', 'i']\n",
            "['/content/gdrive/My Drive/Tp/test/think*bb_frame0.jpg', '/content/gdrive/My Drive/Tp/test/think*bb_frame1.jpg', '/content/gdrive/My Drive/Tp/test/think*bb_frame2.jpg']\n"
          ],
          "name": "stdout"
        },
        {
          "output_type": "stream",
          "text": [
            "\r 86%|████████▌ | 6/7 [00:17<00:02,  2.98s/it]"
          ],
          "name": "stderr"
        },
        {
          "output_type": "stream",
          "text": [
            "pred img shape (3, 49, 512)\n",
            "[1 1 1]\n",
            "hi i\n",
            "think/think*bb.mp4\n",
            "hereee\n",
            "['i', 'i', 'i', 'i', 'i', 'i']\n",
            "------------------------\n",
            "this is 33.33333333333333\n",
            "['i', 'i', 'i', 'i', 'i', 'i']\n",
            "['/content/gdrive/My Drive/Tp/test/morning*cc_frame0.jpg', '/content/gdrive/My Drive/Tp/test/morning*cc_frame1.jpg', '/content/gdrive/My Drive/Tp/test/morning*cc_frame2.jpg']\n"
          ],
          "name": "stdout"
        },
        {
          "output_type": "stream",
          "text": [
            "100%|██████████| 7/7 [00:20<00:00,  2.97s/it]"
          ],
          "name": "stderr"
        },
        {
          "output_type": "stream",
          "text": [
            "pred img shape (3, 49, 512)\n",
            "[1 1 1]\n",
            "hi i\n",
            "morning/morning*cc.mp4\n",
            "hereee\n",
            "['i', 'i', 'i', 'i', 'i', 'i', 'i']\n",
            "------------------------\n",
            "this is 28.57142857142857\n"
          ],
          "name": "stdout"
        },
        {
          "output_type": "stream",
          "text": [
            "\n"
          ],
          "name": "stderr"
        }
      ]
    }
  ]
}